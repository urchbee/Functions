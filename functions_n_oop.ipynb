{
  "nbformat": 4,
  "nbformat_minor": 0,
  "metadata": {
    "colab": {
      "name": "functions-n-oop.ipynb",
      "provenance": [],
      "collapsed_sections": [],
      "include_colab_link": true
    },
    "kernelspec": {
      "display_name": "Python 3",
      "name": "python3"
    },
    "language_info": {
      "name": "python"
    }
  },
  "cells": [
    {
      "cell_type": "markdown",
      "metadata": {
        "id": "view-in-github",
        "colab_type": "text"
      },
      "source": [
        "<a href=\"https://colab.research.google.com/github/urchbee/Functions/blob/main/functions_n_oop.ipynb\" target=\"_parent\"><img src=\"https://colab.research.google.com/assets/colab-badge.svg\" alt=\"Open In Colab\"/></a>"
      ]
    },
    {
      "cell_type": "markdown",
      "metadata": {
        "id": "lLxPEaU-gaeg"
      },
      "source": [
        "## 1. \n",
        "\n",
        "Write a program that reads words from the user until the user enters a blank line. \n",
        "\n",
        "After the user enters a blank line your program should display each word entered by the user exactly once. \n",
        "\n",
        "The words should be displayed in the same order that they were first entered. \n",
        "\n",
        "For example, if the user enters:\n",
        "\n",
        "- chioma\n",
        "- naylo\n",
        "- chioma\n",
        "- uju\n",
        "- naylo\n",
        "\n",
        "\n",
        "then your program should display:\n",
        "\n",
        "- chioma\n",
        "- naylo\n",
        "- uju"
      ]
    },
    {
      "cell_type": "code",
      "metadata": {
        "colab": {
          "base_uri": "https://localhost:8080/"
        },
        "id": "7GpsCwCEOqOv",
        "outputId": "a41e62f2-e133-4e28-d9c1-afc73a72bc14"
      },
      "source": [
        "names = []\n",
        "\n",
        "while True:\n",
        "  name1 = input(\"What is your name: \")\n",
        "  if name1:\n",
        "   names.append(name1)\n",
        "  else:\n",
        "   print(\"No value entered\")\n",
        "   break\n",
        "\n",
        "print(name1)\n",
        "\n",
        "first_name = []\n",
        "for name1 in names:\n",
        "  if name1 not in first_name:\n",
        "    first_name.append(name1)\n",
        "\n",
        "for a in first_name:\n",
        "  print(a)\n",
        "\n"
      ],
      "execution_count": 8,
      "outputs": [
        {
          "output_type": "stream",
          "name": "stdout",
          "text": [
            "What is your name: uche\n",
            "What is your name: chinelo\n",
            "What is your name: isioma\n",
            "What is your name: \n",
            "No value entered\n",
            "\n",
            "uche\n",
            "chinelo\n",
            "isioma\n"
          ]
        }
      ]
    },
    {
      "cell_type": "markdown",
      "metadata": {
        "id": "WQRa9gICgdpp"
      },
      "source": [
        "## 2. \n",
        "An online vendor provides express shipping for many of its items at a rate of $ 10.95 for the first  item  in  an  \n",
        "order, and $2.95 for each subsequent item in the same order.\n",
        "\n",
        "Write a function that takes the number of items in the order as its only parameter.\n",
        "\n",
        "Return the shipping charge for the order as the function’s result. \n",
        "\n",
        "Include a main program that reads the number of items purchased from the user and displays the\n",
        "shipping charge."
      ]
    },
    {
      "cell_type": "code",
      "metadata": {
        "colab": {
          "base_uri": "https://localhost:8080/"
        },
        "id": "ZGes1vYzTUUX",
        "outputId": "8a86e929-74b1-4360-f831-72d8d48318dd"
      },
      "source": [
        "def shipping_cost(n):\n",
        "  n = int(input(\"Enter the number of items ordered: \"))\n",
        "\n",
        "  if n == 1:\n",
        "     return n * 10.95\n",
        "  else:\n",
        "    return n * 2.95\n",
        "\n",
        "print(\"Your total charge for items ordered is  : \" \"%.2f\" % shipping_cost(3))\n"
      ],
      "execution_count": 21,
      "outputs": [
        {
          "output_type": "stream",
          "name": "stdout",
          "text": [
            "Enter the number of items ordered: 1\n",
            "Your total charge for items ordered is  : 10.95\n"
          ]
        }
      ]
    },
    {
      "cell_type": "markdown",
      "metadata": {
        "id": "PruN-DqPghnJ"
      },
      "source": [
        "## 3. \n",
        "\n",
        "What concept is referred to as self-created data type?"
      ]
    },
    {
      "cell_type": "markdown",
      "metadata": {
        "id": "-0dflzyBIhLF"
      },
      "source": [
        "Objects which has attributes(data) and method(code or function)is referred to as self created data type and it is created using class"
      ]
    },
    {
      "cell_type": "markdown",
      "metadata": {
        "id": "QetToisQgmyS"
      },
      "source": [
        "## 4. \n",
        "\n",
        "Look at the code snippet attached, what is the reason for the error? Re-write the  code to give the right output."
      ]
    },
    {
      "cell_type": "code",
      "metadata": {
        "id": "ezKoBNfNoUEJ",
        "colab": {
          "base_uri": "https://localhost:8080/",
          "height": 248
        },
        "outputId": "75bafb97-566a-4349-c184-da83e8d85585"
      },
      "source": [
        " class country:\n",
        "  def __init__(self, location, population, landmass, government):\n",
        "    self.location = location\n",
        "    self.population = population\n",
        "    self.landmass = landmass\n",
        "    self.government = government\n",
        " \n",
        "  \n",
        "\n",
        "  def info():\n",
        "      print(\"Zamunda is located at  \" + self.location + \" with total population of  \" + self.population + \" and landmass of \" + landmass + \" with \" + government + \" as type of government \")\n",
        "\n",
        "Z = country(\"Wakanda\", 500,000, 200,800, \"monarchy\")\n",
        "\n",
        "\n",
        "print(Z)"
      ],
      "execution_count": null,
      "outputs": [
        {
          "output_type": "error",
          "ename": "TypeError",
          "evalue": "ignored",
          "traceback": [
            "\u001b[0;31m---------------------------------------------------------------------------\u001b[0m",
            "\u001b[0;31mTypeError\u001b[0m                                 Traceback (most recent call last)",
            "\u001b[0;32m<ipython-input-1-ceeecb770f10>\u001b[0m in \u001b[0;36m<module>\u001b[0;34m()\u001b[0m\n\u001b[1;32m     11\u001b[0m      \u001b[0mprint\u001b[0m\u001b[0;34m(\u001b[0m\u001b[0;34m\"Zamunda is located at  \"\u001b[0m \u001b[0;34m+\u001b[0m \u001b[0mself\u001b[0m\u001b[0;34m.\u001b[0m\u001b[0mlocation\u001b[0m \u001b[0;34m+\u001b[0m \u001b[0;34m\" with total population of  \"\u001b[0m \u001b[0;34m+\u001b[0m \u001b[0mself\u001b[0m\u001b[0;34m.\u001b[0m\u001b[0mpopulation\u001b[0m \u001b[0;34m+\u001b[0m \u001b[0;34m\" and landmass of \"\u001b[0m \u001b[0;34m+\u001b[0m \u001b[0mlandmass\u001b[0m \u001b[0;34m+\u001b[0m \u001b[0;34m\" with \"\u001b[0m \u001b[0;34m+\u001b[0m \u001b[0mgovernment\u001b[0m \u001b[0;34m+\u001b[0m \u001b[0;34m\" as type of government \"\u001b[0m\u001b[0;34m)\u001b[0m\u001b[0;34m\u001b[0m\u001b[0;34m\u001b[0m\u001b[0m\n\u001b[1;32m     12\u001b[0m \u001b[0;34m\u001b[0m\u001b[0m\n\u001b[0;32m---> 13\u001b[0;31m \u001b[0mZ\u001b[0m \u001b[0;34m=\u001b[0m \u001b[0mcountry\u001b[0m\u001b[0;34m(\u001b[0m\u001b[0;34m\"Wakanda\"\u001b[0m\u001b[0;34m,\u001b[0m \u001b[0;36m500\u001b[0m\u001b[0;34m,\u001b[0m\u001b[0;36m000\u001b[0m\u001b[0;34m,\u001b[0m \u001b[0;36m200\u001b[0m\u001b[0;34m,\u001b[0m\u001b[0;36m800\u001b[0m\u001b[0;34m,\u001b[0m \u001b[0;34m\"monarchy\"\u001b[0m\u001b[0;34m)\u001b[0m\u001b[0;34m\u001b[0m\u001b[0;34m\u001b[0m\u001b[0m\n\u001b[0m\u001b[1;32m     14\u001b[0m \u001b[0;34m\u001b[0m\u001b[0m\n\u001b[1;32m     15\u001b[0m \u001b[0;34m\u001b[0m\u001b[0m\n",
            "\u001b[0;31mTypeError\u001b[0m: __init__() takes 5 positional arguments but 7 were given"
          ]
        }
      ]
    },
    {
      "cell_type": "code",
      "metadata": {
        "colab": {
          "base_uri": "https://localhost:8080/"
        },
        "id": "ZyyzxlLVcB3a",
        "outputId": "4ce9dca5-ff7e-4218-a6aa-ee1509c66bc1"
      },
      "source": [
        " class country:\n",
        "  def __init__(self, location, population, landmass, government):\n",
        "    self.location = location\n",
        "    self.population = population\n",
        "    self.landmass = landmass\n",
        "    self.government = government\n",
        " \n",
        "  \n",
        "\n",
        "  def info(self):\n",
        "      print(\"Zamunda is located at  \" + self.location + \" with total population of  \" + str(self.population) + \" and landmass of \" + str(self.landmass) + \" with \" + self.government + \" as type of government \")\n",
        "\n",
        "Z = country(\"Wakanda\", 500000, 200800, \"monarchy\")\n",
        "\n",
        "Z.info()"
      ],
      "execution_count": 26,
      "outputs": [
        {
          "output_type": "stream",
          "name": "stdout",
          "text": [
            "Zamunda is located at  Wakanda with total population of  500000 and landmass of 200800 with monarchy as type of government \n"
          ]
        }
      ]
    },
    {
      "cell_type": "markdown",
      "metadata": {
        "id": "AKZ5l_hQgr_K"
      },
      "source": [
        "## 5. \n",
        "\n",
        "Create an animal object with attributes, print out a sentence describing the animal with your attributes."
      ]
    },
    {
      "cell_type": "code",
      "metadata": {
        "colab": {
          "base_uri": "https://localhost:8080/"
        },
        "id": "U_lmZCpCIOcg",
        "outputId": "fef628fc-fe62-409d-b50a-ac656f3454d9"
      },
      "source": [
        "class Dog:\n",
        "  def __init__(self, name, breed, age):\n",
        "    self.name = name\n",
        "    self.breed = breed\n",
        "    self.age = age\n",
        "\n",
        "  def info(self):\n",
        "    print(\"I have a dog called \" + self.name + \",\" \" \" \"he is a\" \" \" + self.breed + \" \" \"and\" \" \" + str(self.age) + \" \" \"years old\")\n",
        "\n",
        "pet = Dog(\"Izzy\", \"Maltese\", 3)\n",
        "pet.info()"
      ],
      "execution_count": 1,
      "outputs": [
        {
          "output_type": "stream",
          "name": "stdout",
          "text": [
            "I have a dog called Izzy, he is a Maltese and 3 years old\n"
          ]
        }
      ]
    },
    {
      "cell_type": "markdown",
      "metadata": {
        "id": "v9BmhYgFhId1"
      },
      "source": [
        "## 6\n",
        "\n",
        "Wrtie a function that takes in two parametrs (two strings).\n",
        "\n",
        "The first parameter should be a word and second should be a letter. \n",
        "\n",
        "The function returns the number of times that letter appears in the word. \n",
        "\n",
        "The function should be case insensitive (does not matter if the input is lowercase or uppercase). \n",
        "\n",
        "If the letter is not found in the word, the function should return 0."
      ]
    },
    {
      "cell_type": "code",
      "metadata": {
        "colab": {
          "base_uri": "https://localhost:8080/"
        },
        "id": "U1IGTjhfIohs",
        "outputId": "7d0b15ec-d957-4e26-c3d1-cf038c5cbad9"
      },
      "source": [
        "def parameter(word, x):\n",
        "  a = 0\n",
        "  for letter in word:\n",
        "    if letter.upper() == x.upper():\n",
        "      a += 1\n",
        "  return a\n",
        "print(parameter(\"Nigeria\", \"n\"))"
      ],
      "execution_count": 2,
      "outputs": [
        {
          "output_type": "stream",
          "name": "stdout",
          "text": [
            "1\n"
          ]
        }
      ]
    },
    {
      "cell_type": "code",
      "metadata": {
        "colab": {
          "base_uri": "https://localhost:8080/"
        },
        "id": "lgRqshext-lM",
        "outputId": "cf319bfa-1950-4fb1-db47-a2f89b4470cf"
      },
      "source": [
        "def parameter(word, x):\n",
        "  a = 0\n",
        "  for letter in word:\n",
        "    if letter.upper() == x.upper():\n",
        "      a += 1\n",
        "  return a\n",
        "print(parameter(\"Nigeria\", \"c\"))"
      ],
      "execution_count": 3,
      "outputs": [
        {
          "output_type": "stream",
          "name": "stdout",
          "text": [
            "0\n"
          ]
        }
      ]
    },
    {
      "cell_type": "markdown",
      "metadata": {
        "id": "1bMwB-OjhId8"
      },
      "source": [
        "## 7\n",
        "\n",
        "When analysing data collected as part of an experiment it may be desirable to remove the most extreme values before performing other calculations. \n",
        "\n",
        "Write a function that takes a list of values and an non-negative integer, n, as its parameters.\n",
        "\n",
        "The function should create a new copy of the list with the n largest elements and the n smallest elements removed. \n",
        "\n",
        "Then it should return the new copy of the list as the function’s only result. \n",
        "\n",
        "The order of the elements in the returned list does not have to match the order of the elements in the original list.\n",
        "\n",
        "Write a main program that demonstrates your function. \n",
        "\n",
        "It should read a list of numbers from the user and remove the two largest and two smallest values from it by calling the function described previously. \n",
        "\n",
        "Display the list with the outliers removed, followed by the original list. \n",
        "\n",
        "Your program should generate an appropriate error message if the user enters less than 4 values."
      ]
    },
    {
      "cell_type": "markdown",
      "metadata": {
        "id": "oullEvL5hIeF"
      },
      "source": [
        ""
      ]
    }
  ]
}